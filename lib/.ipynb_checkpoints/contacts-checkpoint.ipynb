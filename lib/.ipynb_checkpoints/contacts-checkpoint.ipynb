{
 "cells": [
  {
   "cell_type": "code",
   "execution_count": null,
   "metadata": {},
   "outputs": [
    {
     "name": "stdout",
     "output_type": "stream",
     "text": [
      "Please enter an option (enter '?' to see list of options): ?\n",
      "- 'a' to add a new contact\n",
      "- 'e' to edit a contact\n",
      "- 's' to search for a contact by their name\n",
      "- 'v' to view all saved contacts\n",
      "Would you like to do something else? (Y/N): y\n",
      "Please enter an option (enter '?' to see list of options): v\n",
      "{'id': 1, 'name': 'Steven', 'birthday': datetime.date(1990, 1, 14), 'email': 'example2@gmail.com'}\n",
      "{'id': 2, 'name': 'Roger', 'birthday': datetime.date(1994, 11, 18), 'email': 'example3@gmail.com'}\n",
      "{'id': 3, 'name': 'Bola', 'birthday': datetime.date(1994, 2, 13), 'email': 'example4@gmail.com'}\n",
      "{'id': 4, 'name': 'Ray', 'birthday': datetime.date(1992, 11, 14), 'email': 'example5@gmail.com'}\n",
      "{'id': 5, 'name': 'Isaac', 'birthday': datetime.date(1990, 8, 11), 'email': 'example1@gmail.com'}\n",
      "{'id': 6, 'name': 'Kwang', 'birthday': datetime.date(1957, 1, 27), 'email': 'example6@gmail.com'}\n",
      "{'id': 7, 'name': 'Mee', 'birthday': datetime.date(1965, 9, 23), 'email': 'example@gmail.com'}\n",
      "{'id': 8, 'name': 'Conor', 'birthday': datetime.date(1996, 6, 9), 'email': 'cnrswim@yahoo.com'}\n",
      "{'id': 9, 'name': 'Ashley taylor', 'birthday': datetime.date(1991, 4, 10), 'email': 'ashleymilestaylor@gmail.com'}\n",
      "{'id': 10, 'name': 'Tory', 'birthday': datetime.date(1988, 8, 3), 'email': 'torysfakeemail@gmail.com'}\n"
     ]
    }
   ],
   "source": [
    "from peewee import *\n",
    "from datetime import date\n",
    "import tkinter as tk\n",
    "from tkinter import *\n",
    "\n",
    "db = PostgresqlDatabase(\"contacts\", user=\"postgres\", password=\"\",\n",
    "                        host=\"localhost\", port=5432)\n",
    "\n",
    "class BaseModel(Model):\n",
    "    class Meta:\n",
    "        database = db\n",
    "\n",
    "class Contact(BaseModel):\n",
    "    name = CharField()\n",
    "    birthday = DateField()\n",
    "    email = CharField()\n",
    "\n",
    "db.connect()\n",
    "\n",
    "run = \"Y\"\n",
    "while run == \"Y\":\n",
    "    # Prints all the available options for navigating contacts\n",
    "    selection = input(\"Please enter an option (enter '?' to see list of options): \").lower()\n",
    "    while selection != \"?\" and selection != \"a\" and selection != \"s\" and selection != \"v\":\n",
    "        selection = input(\"There are no options that match your selection.\\nPlease enter a valid option (enter '?' to see list of options): \").lower()\n",
    "    if selection == \"?\":\n",
    "        print(\"- 'a' to add a new contact\\n- 'e' to edit a contact\\n- 's' to search for a contact by their name\\n- 'v' to view all saved contacts\")\n",
    "    # Creates a new contact (name, birthdate(year, month, day), email)\n",
    "    if selection == \"a\":\n",
    "        new_key = input(\"Please enter a new contact name: \")\n",
    "        new_name = str(new_key).capitalize()\n",
    "        new_year = int(input(\"Please enter the birth year: \"))\n",
    "        new_month = int(input(\"Please enter the birth month (number): \"))\n",
    "        new_day = int(input(\"Please enter the birth day: \"))\n",
    "        new_email = input(\"Please enter the email (example@gmail.com): \")\n",
    "        new_key = Contact(name=new_name, birthday=date(new_year, new_month, new_day), email=new_email)\n",
    "        new_key.save()\n",
    "        print(f\"\\nSuccessfully added '{new_key.name} - {new_key.birthday} - {new_key.email}' to your contacts list.\")\n",
    "    # Searches for the list id of the entered name and prints the details of that id's row\n",
    "    if selection == \"s\":\n",
    "        name_search = str(input(\"Please enter the name of the contact you are looking for: \")).capitalize()\n",
    "        query = Contact.select().dicts()\n",
    "        search_id = Contact.get(Contact.name == name_search).id - 1\n",
    "        print(query[search_id])\n",
    "    # Prints the full list of saved contacts\n",
    "    if selection == \"v\":\n",
    "        query = Contact.select().dicts()\n",
    "        for i in query:\n",
    "            print(i)\n",
    "    run = input(\"Would you like to do something else? (Y/N): \").capitalize()\n",
    "    while run != \"Y\" and run != \"N\":\n",
    "        run = input(\"Please enter 'Y' or 'N': \").capitalize()"
   ]
  },
  {
   "cell_type": "code",
   "execution_count": null,
   "metadata": {},
   "outputs": [],
   "source": []
  }
 ],
 "metadata": {
  "kernelspec": {
   "display_name": "Python 3",
   "language": "python",
   "name": "python3"
  },
  "language_info": {
   "codemirror_mode": {
    "name": "ipython",
    "version": 3
   },
   "file_extension": ".py",
   "mimetype": "text/x-python",
   "name": "python",
   "nbconvert_exporter": "python",
   "pygments_lexer": "ipython3",
   "version": "3.7.4"
  }
 },
 "nbformat": 4,
 "nbformat_minor": 2
}
